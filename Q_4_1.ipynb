{
  "nbformat": 4,
  "nbformat_minor": 0,
  "metadata": {
    "colab": {
      "provenance": []
    },
    "kernelspec": {
      "name": "python3",
      "display_name": "Python 3"
    },
    "language_info": {
      "name": "python"
    }
  },
  "cells": [
    {
      "cell_type": "markdown",
      "source": [
        "# Write a Python program using Pandas to count the number of rows and columns of a DataFrame.\n",
        "\n",
        "```\n",
        "exam_data = {'name': ['Anastasia', 'Dima', 'Katherine', 'James', 'Emily', 'Michael', 'Matthew', 'Laura', 'Kevin', 'Jonas'],\n",
        "'score': [12.5, 9, 16.5, np.nan, 9, 20, 14.5, np.nan, 8, 19],\n",
        "'attempts': [1, 3, 2, 3, 2, 3, 1, 1, 2, 1],\n",
        "'qualify': ['yes', 'no', 'yes', 'no', 'no', 'yes', 'yes', 'no', 'no', 'yes']}\n",
        "labels = ['a', 'b', 'c', 'd', 'e', 'f', 'g', 'h', 'i', 'j']\n",
        "```\n",
        "\n"
      ],
      "metadata": {
        "id": "ZdWBIg61yIL6"
      }
    },
    {
      "cell_type": "code",
      "execution_count": 2,
      "metadata": {
        "colab": {
          "base_uri": "https://localhost:8080/"
        },
        "id": "a1V132Z_xk0V",
        "outputId": "a086661b-361e-4d7c-f5e2-ea2cd3f0e5c8"
      },
      "outputs": [
        {
          "output_type": "stream",
          "name": "stdout",
          "text": [
            "CREATE TABLE exam_data (\n",
            "        name TEXT NOT NULL,\n",
            "        score INT NOT NULL,\n",
            "        attempts INT NOT NULL,\n",
            "        qualify TEXT NOT NULL,\n",
            "        labels TEXT NOT NULL\n",
            ") \n"
          ]
        }
      ],
      "source": [
        "import sqlite3\n",
        "sqlite3.connect(\"sqlite.db\")\n",
        "\n",
        "exam_data = \"\"\"CREATE TABLE exam_data (\n",
        "        name TEXT NOT NULL,\n",
        "        score INT NOT NULL,\n",
        "        attempts INT NOT NULL,\n",
        "        qualify TEXT NOT NULL,\n",
        "        labels TEXT NOT NULL\n",
        ") \"\"\"\n",
        "\n",
        "print(exam_data)"
      ]
    },
    {
      "cell_type": "code",
      "source": [
        "exam_data = \"\"\"INSERT INTO exam_data (name, score. attempts. qualify, labels) VALUES (?,?,?,?,?)\"\"\"\n"
      ],
      "metadata": {
        "id": "EXHBqrjE1sMK"
      },
      "execution_count": 10,
      "outputs": []
    },
    {
      "cell_type": "code",
      "source": [
        "exam_data('Anatasha', 12.5, 1, 'yes', 'a')\n",
        "exam_data('Dima', 16.5, 3, 'no', 'b')\n",
        "exam_data('Katherine', np.nan, 2, 'yes', 'c')\n",
        "exam_data('James', 9, 2, 'no', 'd')\n"
      ],
      "metadata": {
        "id": "MvwC-CkDzrJS"
      },
      "execution_count": 11,
      "outputs": []
    }
  ]
}